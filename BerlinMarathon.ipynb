{
  "nbformat": 4,
  "nbformat_minor": 0,
  "metadata": {
    "colab": {
      "provenance": [],
      "toc_visible": true,
      "mount_file_id": "1Mamek8OoXCcbIfO67LjDKqKD0asX-BVy",
      "authorship_tag": "ABX9TyPTlKkj29+nYI53FPspo2K9",
      "include_colab_link": true
    },
    "kernelspec": {
      "name": "python3",
      "display_name": "Python 3"
    },
    "language_info": {
      "name": "python"
    }
  },
  "cells": [
    {
      "cell_type": "markdown",
      "metadata": {
        "id": "view-in-github",
        "colab_type": "text"
      },
      "source": [
        "<a href=\"https://colab.research.google.com/github/Zoska12/BerlinMarathon2/blob/main/BerlinMarathon.ipynb\" target=\"_parent\"><img src=\"https://colab.research.google.com/assets/colab-badge.svg\" alt=\"Open In Colab\"/></a>"
      ]
    },
    {
      "cell_type": "code",
      "execution_count": null,
      "metadata": {
        "id": "lp4_vbJTNfuH"
      },
      "outputs": [],
      "source": [
        "import pandas as pd\n",
        "path='/content/drive/MyDrive/Colab Notebooks/pattern'"
      ]
    },
    {
      "cell_type": "code",
      "source": [
        "!pip3 install pickle5"
      ],
      "metadata": {
        "colab": {
          "base_uri": "https://localhost:8080/"
        },
        "id": "CWbCDMmO42Sw",
        "outputId": "bc6f9953-4341-4175-e626-c623bce0a5b4"
      },
      "execution_count": null,
      "outputs": [
        {
          "output_type": "stream",
          "name": "stdout",
          "text": [
            "Looking in indexes: https://pypi.org/simple, https://us-python.pkg.dev/colab-wheels/public/simple/\n",
            "Collecting pickle5\n",
            "  Downloading pickle5-0.0.12-cp37-cp37m-manylinux_2_5_x86_64.manylinux1_x86_64.whl (256 kB)\n",
            "\u001b[K     |████████████████████████████████| 256 kB 7.1 MB/s \n",
            "\u001b[?25hInstalling collected packages: pickle5\n",
            "Successfully installed pickle5-0.0.12\n"
          ]
        }
      ]
    },
    {
      "cell_type": "code",
      "source": [
        "import pickle5 as pickle\n",
        "with open(path, \"rb\") as fh:\n",
        "   data = pickle.load(fh)"
      ],
      "metadata": {
        "id": "xftGNOErTRT3"
      },
      "execution_count": null,
      "outputs": []
    },
    {
      "cell_type": "code",
      "source": [
        "df=data"
      ],
      "metadata": {
        "id": "iDq98MQmTW6N"
      },
      "execution_count": null,
      "outputs": []
    },
    {
      "cell_type": "code",
      "source": [
        "df_m=df[df['Genero']=='M']\n",
        "df_k=df[df['Genero']=='F']\n",
        "\n",
        "df_m30=df_m[df_m['Grupo edad']=='30']\n",
        "df_m35=df_m[df_m['Grupo edad']=='35']\n",
        "df_m40=df_m[df_m['Grupo edad']=='40']\n",
        "df_m45=df_m[df_m['Grupo edad']=='45']\n",
        "df_m50=df_m[df_m['Grupo edad']=='50']\n",
        "df_m55=df_m[df_m['Grupo edad']=='55']\n",
        "\n",
        "df_k30=df_k[df_k['Grupo edad']=='30']\n",
        "df_k35=df_k[df_k['Grupo edad']=='35']\n",
        "df_k40=df_k[df_k['Grupo edad']=='40']\n",
        "df_k45=df_k[df_k['Grupo edad']=='45']\n",
        "df_k50=df_k[df_k['Grupo edad']=='50']\n",
        "df_k55=df_k[df_k['Grupo edad']=='55']"
      ],
      "metadata": {
        "id": "5g7MVlOIVKXg"
      },
      "execution_count": null,
      "outputs": []
    },
    {
      "cell_type": "code",
      "source": [
        "def give_groups(df):\n",
        "    q = df.quantile([0.00, 0.25, 0.50, 0.75, 1.00])\n",
        "    col = '42_Finish'\n",
        "    df['Perf Group']=pd.cut(df[col], bins = [q[col][0.00], q[col][0.25], q[col][0.50], q[col][0.75], q[col][1.00]], labels = [1,2,3,4])\n",
        "    df['Perf Group']=df['Perf Group'].fillna(1)\n",
        "    return df"
      ],
      "metadata": {
        "id": "TzECgLK4VsSj"
      },
      "execution_count": null,
      "outputs": []
    },
    {
      "cell_type": "code",
      "source": [
        "df_m30=give_groups(df_m30)\n",
        "df_m35=give_groups(df_m35)\n",
        "df_m40=give_groups(df_m40)\n",
        "df_m45=give_groups(df_m45)\n",
        "df_m50=give_groups(df_m50)\n",
        "df_m55=give_groups(df_m55)\n",
        "\n",
        "df_k30=give_groups(df_k30)\n",
        "df_k35=give_groups(df_k35)\n",
        "df_k40=give_groups(df_k40)\n",
        "df_k45=give_groups(df_k45)\n",
        "df_k50=give_groups(df_k50)\n",
        "df_k55=give_groups(df_k55)"
      ],
      "metadata": {
        "colab": {
          "base_uri": "https://localhost:8080/"
        },
        "id": "YSzA9mhXV0Jz",
        "outputId": "33ba27d6-7155-4edc-8221-90e28513eb77"
      },
      "execution_count": null,
      "outputs": [
        {
          "output_type": "stream",
          "name": "stderr",
          "text": [
            "/usr/local/lib/python3.7/dist-packages/ipykernel_launcher.py:4: SettingWithCopyWarning: \n",
            "A value is trying to be set on a copy of a slice from a DataFrame.\n",
            "Try using .loc[row_indexer,col_indexer] = value instead\n",
            "\n",
            "See the caveats in the documentation: https://pandas.pydata.org/pandas-docs/stable/user_guide/indexing.html#returning-a-view-versus-a-copy\n",
            "  after removing the cwd from sys.path.\n",
            "/usr/local/lib/python3.7/dist-packages/ipykernel_launcher.py:5: SettingWithCopyWarning: \n",
            "A value is trying to be set on a copy of a slice from a DataFrame.\n",
            "Try using .loc[row_indexer,col_indexer] = value instead\n",
            "\n",
            "See the caveats in the documentation: https://pandas.pydata.org/pandas-docs/stable/user_guide/indexing.html#returning-a-view-versus-a-copy\n",
            "  \"\"\"\n"
          ]
        }
      ]
    },
    {
      "cell_type": "markdown",
      "source": [
        "\n",
        "1. Liczba uczestników/ year by year (tabela) (age group) \n",
        "2. Średnie czasy Year by year (age group)\n",
        "3. Liczba uczestników w performence groupach + ich czasy "
      ],
      "metadata": {
        "id": "coAMLDUeXvzl"
      }
    }
  ]
}